{
 "cells": [
  {
   "cell_type": "code",
   "execution_count": 2,
   "metadata": {},
   "outputs": [],
   "source": [
    "import numpy as np"
   ]
  },
  {
   "cell_type": "markdown",
   "metadata": {},
   "source": [
    "### Question 1"
   ]
  },
  {
   "cell_type": "code",
   "execution_count": 3,
   "metadata": {},
   "outputs": [
    {
     "name": "stdout",
     "output_type": "stream",
     "text": [
      "[24]\n"
     ]
    }
   ],
   "source": [
    "aVec = np.random.randint(0,100,20)\n",
    "b = np.random.rand()*100\n",
    "aV_ABC = np.absolute(aVec - b)\n",
    "\n",
    "minval = aV_ABC.min()\n",
    "index = np.where(aV_ABC == minval)\n",
    "\n",
    "print(aVec[index])"
   ]
  },
  {
   "cell_type": "markdown",
   "metadata": {},
   "source": [
    "### Question 2"
   ]
  },
  {
   "cell_type": "code",
   "execution_count": 20,
   "metadata": {},
   "outputs": [
    {
     "data": {
      "text/plain": [
       "array([[ 0.48039477, -1.        ,  0.76160881,  0.07590202,  0.31206172,\n",
       "         0.08056573,  0.8477157 ,  0.1629913 ,  0.19547512,  0.53835852,\n",
       "         0.10150269,  0.82198747,  0.44503441,  0.61515177,  0.09519014]])"
      ]
     },
     "execution_count": 20,
     "metadata": {},
     "output_type": "execute_result"
    }
   ],
   "source": [
    "vec = np.random.rand(1,15)\n",
    "vec[np.where(vec == vec.max())] = -1\n",
    "vec"
   ]
  },
  {
   "cell_type": "markdown",
   "metadata": {},
   "source": [
    "### Question 3"
   ]
  },
  {
   "cell_type": "code",
   "execution_count": 118,
   "metadata": {},
   "outputs": [
    {
     "data": {
      "text/plain": [
       "array([[555,   0, 555,   0, 555, 555, 555,   0, 555,   0,   0],\n",
       "       [  0, 555,   0, 555, 555,   0, 555,   0, 555, 555, 555],\n",
       "       [  0,   0,   0,   0,   0,   0,   0,   0, 555, 555, 555]])"
      ]
     },
     "execution_count": 118,
     "metadata": {},
     "output_type": "execute_result"
    }
   ],
   "source": [
    "A = np.array([[1,0,1,0,1,1,1,0,1,0,0],[0,1,0,1,1,0,1,0,1,1,1],[0,0,0,0,0,0,0,0,1,1,1]])\n",
    "A[np.where(A == 1)] = 555\n",
    "A"
   ]
  },
  {
   "cell_type": "markdown",
   "metadata": {},
   "source": [
    "### Question 4"
   ]
  },
  {
   "cell_type": "code",
   "execution_count": 30,
   "metadata": {},
   "outputs": [
    {
     "name": "stdout",
     "output_type": "stream",
     "text": [
      "[8 5 2 5 2] [9 5 4 1 7]\n"
     ]
    },
    {
     "data": {
      "text/plain": [
       "array([False,  True, False, False, False])"
      ]
     },
     "execution_count": 30,
     "metadata": {},
     "output_type": "execute_result"
    }
   ],
   "source": [
    "a = np.random.randint(1,10,5)\n",
    "b = np.random.randint(1,10,5)\n",
    "print(a,b)\n",
    "a == b"
   ]
  },
  {
   "cell_type": "markdown",
   "metadata": {},
   "source": [
    "### Question 5"
   ]
  },
  {
   "cell_type": "code",
   "execution_count": 33,
   "metadata": {},
   "outputs": [
    {
     "data": {
      "text/plain": [
       "array([ 0, 93, 81, 58, 92,  0,  0,  0, 75, 55, 65,  0,  0, 90,  0, 53,  0,\n",
       "       91,  0, 62])"
      ]
     },
     "execution_count": 33,
     "metadata": {},
     "output_type": "execute_result"
    }
   ],
   "source": [
    "a = np.random.randint(10,100,20)\n",
    "a[a-a.mean() < 0] = 0\n",
    "a"
   ]
  },
  {
   "cell_type": "markdown",
   "metadata": {},
   "source": [
    "### Question 6"
   ]
  },
  {
   "cell_type": "code",
   "execution_count": 34,
   "metadata": {},
   "outputs": [
    {
     "data": {
      "text/plain": [
       "array([[100, 100, 100, 100, 100],\n",
       "       [100,  -1,  -1,  -1, 100],\n",
       "       [100,  -1,  -1,  -1, 100],\n",
       "       [100,  -1,  -1,  -1, 100],\n",
       "       [100, 100, 100, 100, 100]])"
      ]
     },
     "execution_count": 34,
     "metadata": {},
     "output_type": "execute_result"
    }
   ],
   "source": [
    "x = np.arange(25).reshape(5,5)\n",
    "x[:] = 100\n",
    "x[1:-1, 1:-1] = -1\n",
    "x"
   ]
  },
  {
   "cell_type": "markdown",
   "metadata": {},
   "source": [
    "### Question 7"
   ]
  },
  {
   "cell_type": "code",
   "execution_count": 38,
   "metadata": {},
   "outputs": [
    {
     "data": {
      "text/plain": [
       "array([[0.03309505, 0.16905393, 0.140625  , 0.07536189, 0.05963556,\n",
       "        0.00901917, 0.00794407, 0.12233074, 0.1138088 , 0.00592467],\n",
       "       [0.23987292, 0.05393457, 0.18678977, 0.12610058, 0.18028713,\n",
       "        0.01888388, 0.31267874, 0.15742427, 0.01105571, 0.00782903],\n",
       "       [0.18427323, 0.02404951, 0.01183712, 0.07178033, 0.10160133,\n",
       "        0.05806088, 0.29456625, 0.0508194 , 0.09083026, 0.09056284],\n",
       "       [0.22133969, 0.17206012, 0.16761364, 0.1352037 , 0.20789619,\n",
       "        0.04171364, 0.3164919 , 0.03045853, 0.2124431 , 0.01460008],\n",
       "       [0.00450093, 0.06613616, 0.01112689, 0.08431577, 0.20789619,\n",
       "        0.05749718, 0.27168732, 0.03757656, 0.06850206, 0.01269573],\n",
       "       [0.2586709 , 0.15773652, 0.21567235, 0.13162215, 0.13307565,\n",
       "        0.11414882, 0.05465523, 0.02880318, 0.21070887, 0.17435463],\n",
       "       [0.13317448, 0.02882405, 0.11624053, 0.08924041, 0.05024848,\n",
       "        0.08554115, 0.03336511, 0.05727529, 0.02211142, 0.01057977],\n",
       "       [0.20227694, 0.06613616, 0.14820076, 0.10147739, 0.19077858,\n",
       "        0.0132469 , 0.25166826, 0.08773382, 0.18101019, 0.13859501],\n",
       "       [0.03230077, 0.09991158, 0.11055871, 0.05103716, 0.11209277,\n",
       "        0.08187711, 0.10073085, 0.10958451, 0.1372209 , 0.10960643],\n",
       "       [0.01509134, 0.14765694, 0.14370265, 0.03327862, 0.1228603 ,\n",
       "        0.03706313, 0.20908802, 0.11239861, 0.06676783, 0.13774862]])"
      ]
     },
     "execution_count": 38,
     "metadata": {},
     "output_type": "execute_result"
    }
   ],
   "source": [
    "C = np.random.randint(1,1000,100).reshape(10,10)\n",
    "R = C/np.sum(C, axis=1)\n",
    "R"
   ]
  },
  {
   "cell_type": "markdown",
   "metadata": {},
   "source": [
    "### Question 8"
   ]
  },
  {
   "cell_type": "code",
   "execution_count": 44,
   "metadata": {},
   "outputs": [
    {
     "data": {
      "text/plain": [
       "array([-3.,  2.,  1.])"
      ]
     },
     "execution_count": 44,
     "metadata": {},
     "output_type": "execute_result"
    }
   ],
   "source": [
    "G = np.array([[1,2,1],[2,6,1],[1,1,4]])\n",
    "S = np.array([2,7,3])\n",
    "np.linalg.solve(G,S)"
   ]
  },
  {
   "cell_type": "markdown",
   "metadata": {},
   "source": [
    "### Question 9"
   ]
  },
  {
   "cell_type": "code",
   "execution_count": 100,
   "metadata": {},
   "outputs": [
    {
     "data": {
      "text/plain": [
       "array([[3.46410162, 1.57079633],\n",
       "       [2.64575131, 1.40564765],\n",
       "       [4.12310563, 0.41822433],\n",
       "       [3.31662479, 0.69473828],\n",
       "       [2.64575131, 1.40564765],\n",
       "       [1.41421356, 0.78539816],\n",
       "       [3.31662479, 0.35877067],\n",
       "       [3.31662479, 1.05165021],\n",
       "       [3.46410162, 1.24904577],\n",
       "       [1.        , 0.5880026 ]])"
      ]
     },
     "execution_count": 100,
     "metadata": {},
     "output_type": "execute_result"
    }
   ],
   "source": [
    "def convert(array):\n",
    "    '''\n",
    "    Converts \n",
    "    '''\n",
    "    r = np.sqrt((array[0]^2)+(array[1]^2))\n",
    "    theta = np.arctan2(array[1],array[0])\n",
    "    return np.array([r,theta])\n",
    "\n",
    "C = np.random.randint(0,10,20).reshape(10,2)\n",
    "\n",
    "np.apply_along_axis(convert, 1, C)"
   ]
  },
  {
   "cell_type": "markdown",
   "metadata": {},
   "source": [
    "### Question 10"
   ]
  },
  {
   "cell_type": "code",
   "execution_count": 114,
   "metadata": {},
   "outputs": [
    {
     "data": {
      "text/plain": [
       "array([ 1, 20,  1,  0, 23])"
      ]
     },
     "execution_count": 114,
     "metadata": {},
     "output_type": "execute_result"
    }
   ],
   "source": [
    "a = np.array([9, 10, 7, 1, 8, 9, 10, 14, 20, 11, 2, 1, 0, 23, 6, 8])\n",
    "a[np.where((a > 16) | (a < 2))]"
   ]
  },
  {
   "cell_type": "markdown",
   "metadata": {},
   "source": [
    "### Question 11"
   ]
  },
  {
   "cell_type": "code",
   "execution_count": 116,
   "metadata": {},
   "outputs": [
    {
     "data": {
      "text/plain": [
       "array([ 7,  1, -3])"
      ]
     },
     "execution_count": 116,
     "metadata": {},
     "output_type": "execute_result"
    }
   ],
   "source": [
    "a = np.array([1, 2, 3])\n",
    "b = np.array([1, -1, 2])\n",
    "np.cross(a,b.T)"
   ]
  },
  {
   "cell_type": "markdown",
   "metadata": {},
   "source": [
    "### Question 12"
   ]
  },
  {
   "cell_type": "code",
   "execution_count": 119,
   "metadata": {},
   "outputs": [
    {
     "data": {
      "text/plain": [
       "array([[ 36,  15, -22],\n",
       "       [  6,   0,  -4],\n",
       "       [-50, -19,  22]])"
      ]
     },
     "execution_count": 119,
     "metadata": {},
     "output_type": "execute_result"
    }
   ],
   "source": [
    "A = np.array([[-6,10,-3],[0,1,0],[6,-10,5]])\n",
    "B = np.array([[1,2,3],[4,5,6],[1,2,4]])\n",
    "np.cross(A,B)"
   ]
  },
  {
   "cell_type": "markdown",
   "metadata": {},
   "source": [
    "### Question 13"
   ]
  },
  {
   "cell_type": "code",
   "execution_count": 120,
   "metadata": {},
   "outputs": [
    {
     "data": {
      "text/plain": [
       "array([[ 31,  32,  30],\n",
       "       [  4,   5,   6],\n",
       "       [-29, -28, -22]])"
      ]
     },
     "execution_count": 120,
     "metadata": {},
     "output_type": "execute_result"
    }
   ],
   "source": [
    "A = np.array([[-6,10,-3],[0,1,0],[6,-10,5]])\n",
    "B = np.array([[1,2,3],[4,5,6],[1,2,4]])\n",
    "np.dot(A,B)"
   ]
  },
  {
   "cell_type": "markdown",
   "metadata": {},
   "source": [
    "### Question 14"
   ]
  },
  {
   "cell_type": "code",
   "execution_count": 123,
   "metadata": {},
   "outputs": [
    {
     "data": {
      "text/plain": [
       "(array([ 3,  1,  2,  4,  9, 29, 11, 15, 32]),\n",
       " array([ 0,  0,  2,  4,  0,  0,  0,  0, 32]))"
      ]
     },
     "execution_count": 123,
     "metadata": {},
     "output_type": "execute_result"
    }
   ],
   "source": [
    "a = np.array([3, 1, 2, 4, 9, 29, 11, 15, 32])\n",
    "b = np.copy(a)\n",
    "b[np.where(b%2 != 0)] = 0\n",
    "a,b"
   ]
  },
  {
   "cell_type": "markdown",
   "metadata": {},
   "source": [
    "### Question 15"
   ]
  },
  {
   "cell_type": "code",
   "execution_count": 126,
   "metadata": {},
   "outputs": [
    {
     "data": {
      "text/plain": [
       "array([ 1,  2,  4,  6,  7,  9, 10])"
      ]
     },
     "execution_count": 126,
     "metadata": {},
     "output_type": "execute_result"
    }
   ],
   "source": [
    "a = np.array([1, 2, 3, 4, 5, 6, 7, 8, 9, 10, 11, 12])\n",
    "b = np.array([7, 2, 4, 6, 2, 1, 9, 10, 15, 20])\n",
    "np.intersect1d(a,b)"
   ]
  },
  {
   "cell_type": "markdown",
   "metadata": {},
   "source": [
    "### Question 16"
   ]
  },
  {
   "cell_type": "code",
   "execution_count": 127,
   "metadata": {},
   "outputs": [
    {
     "data": {
      "text/plain": [
       "array([[ -4,   7,  -9,  24,  41],\n",
       "       [ 93,  63,  70,   6,  32],\n",
       "       [-28, -51,  25,  15, -57],\n",
       "       [-31, -35, -13, -46, -74],\n",
       "       [  2,  27,  23, -13,  46],\n",
       "       [ 81,  23,  20,  54,  35],\n",
       "       [-40, -41, -58, -33, -47],\n",
       "       [-62, -16,   3, -14, -55],\n",
       "       [  2, -36, -48, -38, -43],\n",
       "       [-68, -51, -36, -23, -41]])"
      ]
     },
     "execution_count": 127,
     "metadata": {},
     "output_type": "execute_result"
    }
   ],
   "source": [
    "a = np.random.randint(1,100,10)[np.newaxis]\n",
    "B = np.random.randint(1,100,50).reshape(10,5)\n",
    "B-a.T"
   ]
  },
  {
   "cell_type": "markdown",
   "metadata": {},
   "source": [
    "### Question 17"
   ]
  },
  {
   "cell_type": "code",
   "execution_count": 145,
   "metadata": {},
   "outputs": [
    {
     "data": {
      "image/png": "[encoded data removed]",
      "text/plain": [
       "<Figure size 432x288 with 1 Axes>"
      ]
     },
     "metadata": {},
     "output_type": "display_data"
    },
    {
     "name": "stdout",
     "output_type": "stream",
     "text": [
      "$179,024.39\n"
     ]
    }
   ],
   "source": [
    "%matplotlib inline\n",
    "import matplotlib.pyplot as plt\n",
    "from scipy import stats\n",
    "\n",
    "ad, pro = np.array([12000,14000,17000,21000,26000,30000]), np.array([60000,70000,90000,100000,100000,120000])\n",
    "\n",
    "slope, intercept, r_value, p_value, std_err = stats.linregress(ad,pro)\n",
    "line = slope*ad+intercept\n",
    "\n",
    "plt.plot(ad,pro,'o',ad,line)\n",
    "plt.show()\n",
    "\n",
    "print('${:,.2f}'.format(slope*50000+intercept))"
   ]
  },
  {
   "cell_type": "code",
   "execution_count": null,
   "metadata": {},
   "outputs": [],
   "source": []
  }
 ],
 "metadata": {
  "kernelspec": {
   "display_name": "Python 3",
   "language": "python",
   "name": "python3"
  },
  "language_info": {
   "codemirror_mode": {
    "name": "ipython",
    "version": 3
   },
   "file_extension": ".py",
   "mimetype": "text/x-python",
   "name": "python",
   "nbconvert_exporter": "python",
   "pygments_lexer": "ipython3",
   "version": "3.6.5"
  }
 },
 "nbformat": 4,
 "nbformat_minor": 2
}
